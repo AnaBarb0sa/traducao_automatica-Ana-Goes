{
  "nbformat": 4,
  "nbformat_minor": 0,
  "metadata": {
    "colab": {
      "provenance": [],
      "authorship_tag": "ABX9TyM8Isqu8eYV142PwUe0IeXm",
      "include_colab_link": true
    },
    "kernelspec": {
      "name": "python3",
      "display_name": "Python 3"
    },
    "language_info": {
      "name": "python"
    }
  },
  "cells": [
    {
      "cell_type": "markdown",
      "metadata": {
        "id": "view-in-github",
        "colab_type": "text"
      },
      "source": [
        "<a href=\"https://colab.research.google.com/github/AnaBarb0sa/traducao_automatica-Ana-Goes/blob/main/Traducao_Automatica_Ana_Goes.ipynb\" target=\"_parent\"><img src=\"https://colab.research.google.com/assets/colab-badge.svg\" alt=\"Open In Colab\"/></a>"
      ]
    },
    {
      "cell_type": "code",
      "execution_count": null,
      "metadata": {
        "colab": {
          "base_uri": "https://localhost:8080/"
        },
        "id": "wXA9z_9vhzul",
        "outputId": "cf784b61-d200-4225-8268-9ef154081138"
      },
      "outputs": [
        {
          "output_type": "stream",
          "name": "stdout",
          "text": [
            "\u001b[2K   \u001b[90m━━━━━━━━━━━━━━━━━━━━━━━━━━━━━━━━━━━━━━━━\u001b[0m \u001b[32m2.0/2.0 MB\u001b[0m \u001b[31m24.7 MB/s\u001b[0m eta \u001b[36m0:00:00\u001b[0m\n",
            "\u001b[2K   \u001b[90m━━━━━━━━━━━━━━━━━━━━━━━━━━━━━━━━━━━━━━━━\u001b[0m \u001b[32m755.5/755.5 MB\u001b[0m \u001b[31m1.5 MB/s\u001b[0m eta \u001b[36m0:00:00\u001b[0m\n",
            "\u001b[2K   \u001b[90m━━━━━━━━━━━━━━━━━━━━━━━━━━━━━━━━━━━━━━━━\u001b[0m \u001b[32m410.6/410.6 MB\u001b[0m \u001b[31m3.6 MB/s\u001b[0m eta \u001b[36m0:00:00\u001b[0m\n",
            "\u001b[2K   \u001b[90m━━━━━━━━━━━━━━━━━━━━━━━━━━━━━━━━━━━━━━━━\u001b[0m \u001b[32m14.1/14.1 MB\u001b[0m \u001b[31m112.4 MB/s\u001b[0m eta \u001b[36m0:00:00\u001b[0m\n",
            "\u001b[2K   \u001b[90m━━━━━━━━━━━━━━━━━━━━━━━━━━━━━━━━━━━━━━━━\u001b[0m \u001b[32m23.7/23.7 MB\u001b[0m \u001b[31m90.1 MB/s\u001b[0m eta \u001b[36m0:00:00\u001b[0m\n",
            "\u001b[2K   \u001b[90m━━━━━━━━━━━━━━━━━━━━━━━━━━━━━━━━━━━━━━━━\u001b[0m \u001b[32m823.6/823.6 kB\u001b[0m \u001b[31m44.6 MB/s\u001b[0m eta \u001b[36m0:00:00\u001b[0m\n",
            "\u001b[2K   \u001b[90m━━━━━━━━━━━━━━━━━━━━━━━━━━━━━━━━━━━━━━━━\u001b[0m \u001b[32m731.7/731.7 MB\u001b[0m \u001b[31m2.7 MB/s\u001b[0m eta \u001b[36m0:00:00\u001b[0m\n",
            "\u001b[2K   \u001b[91m━━━━━━━━━━━━━━━━━━━━━━━━━━━━━━━━━\u001b[0m\u001b[91m╸\u001b[0m\u001b[90m━━━━━\u001b[0m \u001b[32m105.9/121.6 MB\u001b[0m \u001b[31m142.5 MB/s\u001b[0m eta \u001b[36m0:00:01\u001b[0m\n",
            "\u001b[2K   \u001b[90m━━━━━━━━━━━━━━━━━━━━━━━━━━━━━━━━━━━━━━━━\u001b[0m \u001b[32m56.5/56.5 MB\u001b[0m \u001b[31m12.0 MB/s\u001b[0m eta \u001b[36m0:00:00\u001b[0m\n",
            "\u001b[2K   \u001b[90m━━━━━━━━━━━━━━━━━━━━━━━━━━━━━━━━━━━━━━━━\u001b[0m \u001b[32m124.2/124.2 MB\u001b[0m \u001b[31m7.7 MB/s\u001b[0m eta \u001b[36m0:00:00\u001b[0m\n",
            "\u001b[2K   \u001b[90m━━━━━━━━━━━━━━━━━━━━━━━━━━━━━━━━━━━━━━━━\u001b[0m \u001b[32m196.0/196.0 MB\u001b[0m \u001b[31m5.4 MB/s\u001b[0m eta \u001b[36m0:00:00\u001b[0m\n",
            "\u001b[2K   \u001b[90m━━━━━━━━━━━━━━━━━━━━━━━━━━━━━━━━━━━━━━━━\u001b[0m \u001b[32m166.0/166.0 MB\u001b[0m \u001b[31m6.9 MB/s\u001b[0m eta \u001b[36m0:00:00\u001b[0m\n",
            "\u001b[2K   \u001b[90m━━━━━━━━━━━━━━━━━━━━━━━━━━━━━━━━━━━━━━━━\u001b[0m \u001b[32m99.1/99.1 kB\u001b[0m \u001b[31m7.9 MB/s\u001b[0m eta \u001b[36m0:00:00\u001b[0m\n",
            "\u001b[?25h\u001b[31mERROR: THESE PACKAGES DO NOT MATCH THE HASHES FROM THE REQUIREMENTS FILE. If you have updated the package versions, please update the hashes. Otherwise, examine the package contents carefully; someone may have tampered with them.\n",
            "    unknown package:\n",
            "        Expected sha256 794e3948a1aa71fd817c3775866943936774d1c14e7628c74f6f7417224cdf56\n",
            "             Got        dda132860a71cf0aa31c4699c040b01126a55c8aba04413b13b917ad2cda7af0\n",
            "\u001b[0m\u001b[31m\n",
            "\u001b[0m"
          ]
        }
      ],
      "source": [
        "!pip -q install torchtext==0.17.2"
      ]
    },
    {
      "cell_type": "code",
      "metadata": {
        "colab": {
          "base_uri": "https://localhost:8080/"
        },
        "id": "27befa53",
        "outputId": "d89eabfb-48ad-40ac-fda5-cb0b842ac59e"
      },
      "source": [
        "!pip install requests"
      ],
      "execution_count": null,
      "outputs": [
        {
          "output_type": "stream",
          "name": "stdout",
          "text": [
            "Requirement already satisfied: requests in /usr/local/lib/python3.12/dist-packages (2.32.4)\n",
            "Requirement already satisfied: charset_normalizer<4,>=2 in /usr/local/lib/python3.12/dist-packages (from requests) (3.4.3)\n",
            "Requirement already satisfied: idna<4,>=2.5 in /usr/local/lib/python3.12/dist-packages (from requests) (3.10)\n",
            "Requirement already satisfied: urllib3<3,>=1.21.1 in /usr/local/lib/python3.12/dist-packages (from requests) (2.5.0)\n",
            "Requirement already satisfied: certifi>=2017.4.17 in /usr/local/lib/python3.12/dist-packages (from requests) (2025.8.3)\n"
          ]
        }
      ]
    },
    {
      "cell_type": "code",
      "source": [
        "import math\n",
        "import os\n",
        "import re\n",
        "import time\n",
        "import random\n",
        "import zipfile\n",
        "import urllib.request\n",
        "from collections import Counter\n",
        "from typing import List, Tuple, Dict\n",
        "\n",
        "\n",
        "import torch\n",
        "import torch.nn as nn\n",
        "from torch.nn.utils.rnn import pad_sequence\n",
        "from torch.utils.data import Dataset, DataLoader\n",
        "import matplotlib.pyplot as plt"
      ],
      "metadata": {
        "id": "15kODmxVh61T"
      },
      "execution_count": null,
      "outputs": []
    },
    {
      "cell_type": "code",
      "source": [
        "import os, zipfile, time, random, re, urllib.request, urllib.error, requests"
      ],
      "metadata": {
        "id": "tNr6C34pkmjp"
      },
      "execution_count": null,
      "outputs": []
    },
    {
      "cell_type": "code",
      "source": [
        "device = torch.device(\"cuda\" if torch.cuda.is_available() else \"cpu\")"
      ],
      "metadata": {
        "id": "KjwDKrrEh-hK"
      },
      "execution_count": null,
      "outputs": []
    },
    {
      "cell_type": "code",
      "source": [
        "SEED = 42\n",
        "random.seed(SEED)\n",
        "torch.manual_seed(SEED)\n",
        "if torch.cuda.is_available():\n",
        "  torch.cuda.manual_seed_all(SEED)"
      ],
      "metadata": {
        "id": "qxBJdJu9iAO-"
      },
      "execution_count": null,
      "outputs": []
    },
    {
      "cell_type": "code",
      "source": [
        "class Timer:\n",
        "  def __init__(self):\n",
        "    self.t0 = time.time()\n",
        "\n",
        "  def reset(self):\n",
        "    self.t0 = time.time()\n",
        "\n",
        "  def elapsed(self):\n",
        "    return time.time() - self.t0"
      ],
      "metadata": {
        "id": "qX8E_45kiCOb"
      },
      "execution_count": null,
      "outputs": []
    },
    {
      "cell_type": "code",
      "source": [
        "## Hiperparametros\n",
        "\n",
        "HYPERPARAMS = {\n",
        "\"num_examples\": 12000, # altere para 600, 12000, 50000, etc. (Exercício 9.5.7.1)\n",
        "\"num_steps\": 10,\n",
        "\"min_freq\": 2,\n",
        "\"batch_size\": 128,\n",
        "\"embed_size\": 256,\n",
        "\"hidden_size\": 512,\n",
        "\"num_layers\": 1,\n",
        "\"dropout\": 0.1,\n",
        "\"lr\": 2e-3,\n",
        "\"num_epochs\": 5,\n",
        "}\n",
        "\n",
        "\n",
        "DATA_DIR = \"./data_tatoeba\"\n",
        "os.makedirs(DATA_DIR, exist_ok=True)"
      ],
      "metadata": {
        "id": "NIti3yC3iElG"
      },
      "execution_count": null,
      "outputs": []
    },
    {
      "cell_type": "markdown",
      "source": [
        "## Download & Pré-processamento (Tatoeba EN–FR)\n"
      ],
      "metadata": {
        "id": "mIxunPm3xUzf"
      }
    },
    {
      "cell_type": "code",
      "source": [
        "DATA_DIR = \"./data_tatoeba\"\n",
        "os.makedirs(DATA_DIR, exist_ok=True)\n",
        "\n",
        "URL = \"https://www.manythings.org/anki/fra-eng.zip\"\n",
        "ZIP_PATH = os.path.join(DATA_DIR, \"fra-eng.zip\")\n",
        "TXT_PATH = os.path.join(DATA_DIR, \"fra.txt\")\n",
        "\n",
        "def _download_with_headers(url, dst, max_retries=3):\n",
        "    # 1) tenta com requests + headers de navegador\n",
        "    headers = {\n",
        "        \"User-Agent\": \"Mozilla/5.0 (X11; Linux x86_64) AppleWebKit/537.36 \"\n",
        "                      \"(KHTML, like Gecko) Chrome/120.0 Safari/537.36\",\n",
        "        \"Accept\": \"*/*\",\n",
        "        \"Accept-Language\": \"en-US,en;q=0.9\",\n",
        "    }\n",
        "    for i in range(max_retries):\n",
        "        try:\n",
        "            with requests.get(url, headers=headers, stream=True, timeout=30) as r:\n",
        "                r.raise_for_status()\n",
        "                with open(dst, \"wb\") as f:\n",
        "                    for chunk in r.iter_content(chunk_size=8192):\n",
        "                        if chunk:\n",
        "                            f.write(chunk)\n",
        "            return\n",
        "        except Exception as e:\n",
        "            if i == max_retries - 1:\n",
        "                raise\n",
        "            time.sleep(1.5 * (i + 1))\n",
        "\n",
        "if not os.path.exists(TXT_PATH):\n",
        "    if not os.path.exists(ZIP_PATH):\n",
        "        print(\"Baixando (com headers):\", URL)\n",
        "        _download_with_headers(URL, ZIP_PATH)\n",
        "    with zipfile.ZipFile(ZIP_PATH, \"r\") as zf:\n",
        "        zf.extractall(DATA_DIR)\n",
        "    print(\"Extraído para:\", DATA_DIR)"
      ],
      "metadata": {
        "colab": {
          "base_uri": "https://localhost:8080/"
        },
        "id": "ggZAOnq9iIT7",
        "outputId": "10382f82-89f2-4543-e71b-40f535b1f27c"
      },
      "execution_count": null,
      "outputs": [
        {
          "output_type": "stream",
          "name": "stdout",
          "text": [
            "Baixando (com headers): https://www.manythings.org/anki/fra-eng.zip\n",
            "Extraído para: ./data_tatoeba\n"
          ]
        }
      ]
    },
    {
      "cell_type": "code",
      "source": [
        "# --- Ler fra.txt e construir 'pairs' (EN, FR) ---\n",
        "def normalize_text(s: str) -> str:\n",
        "    s = s.strip().lower()\n",
        "    s = re.sub(r\"([,.!?;:\\(\\)\\\"'])\", r\" \\1 \", s)\n",
        "    s = re.sub(r\"\\s+\", \" \", s)\n",
        "    return s\n",
        "\n",
        "pairs = []\n",
        "with open(TXT_PATH, encoding=\"utf-8\") as f:\n",
        "    for line in f:\n",
        "        # cada linha: EN \\t FR \\t (metadados opcionais)\n",
        "        cols = line.rstrip(\"\\n\").split(\"\\t\")\n",
        "        if len(cols) >= 2:\n",
        "            eng = normalize_text(cols[0])\n",
        "            fra = normalize_text(cols[1])\n",
        "            if eng and fra:\n",
        "                pairs.append((eng, fra))\n",
        "\n",
        "random.shuffle(pairs)\n",
        "orig_size = len(pairs)\n",
        "pairs = pairs[: HYPERPARAMS[\"num_examples\"]]\n",
        "print(f\"Pares carregados: {len(pairs)} (de {orig_size})\")\n",
        "print(\"Exemplo:\", pairs[0])\n"
      ],
      "metadata": {
        "colab": {
          "base_uri": "https://localhost:8080/"
        },
        "id": "6zlA6pqSmPVU",
        "outputId": "0ba628ce-2b52-49ca-b4ad-d2d2b6306c7b"
      },
      "execution_count": null,
      "outputs": [
        {
          "output_type": "stream",
          "name": "stdout",
          "text": [
            "Pares carregados: 12000 (de 237838)\n",
            "Exemplo: ('tom made many mistakes . ', 'tom a fait beaucoup de fautes . ')\n"
          ]
        }
      ]
    },
    {
      "cell_type": "markdown",
      "source": [
        "## Tokenização & Vocabulários\n",
        "\n",
        "Divide em tokens por espaço (word-level), acrescenta tokens especiais e constrói vocabulários com `min_freq`. Mantemos `<pad>`, `<bos>`, `<eos>`, `<unk>`."
      ],
      "metadata": {
        "id": "fk4dEIyixNMj"
      }
    },
    {
      "cell_type": "code",
      "source": [
        "SPECIAL_TOKENS = [\"<pad>\", \"<bos>\", \"<eos>\", \"<unk>\"]\n",
        "PAD, BOS, EOS, UNK = SPECIAL_TOKENS\n",
        "\n",
        "\n",
        "def tokenize(s: str) -> List[str]:\n",
        "    return s.split(\" \")\n",
        "\n",
        "\n",
        "def build_vocab(texts: List[List[str]], min_freq: int) -> Tuple[Dict[str, int], Dict[int, str]]:\n",
        "    counter = Counter()\n",
        "    for t in texts:\n",
        "        counter.update(t)\n",
        "    itos = list(SPECIAL_TOKENS)\n",
        "    for tok, freq in counter.most_common():\n",
        "        if freq >= min_freq and tok not in SPECIAL_TOKENS:\n",
        "            itos.append(tok)\n",
        "    stoi = {tok: i for i, tok in enumerate(itos)}\n",
        "    return stoi, {i: tok for tok, i in stoi.items()}\n",
        "\n",
        "eng_tokens = [tokenize(e) for e, _ in pairs]\n",
        "fra_tokens = [tokenize(f) for _, f in pairs]\n",
        "\n",
        "eng_stoi, eng_itos = build_vocab(eng_tokens, HYPERPARAMS[\"min_freq\"])\n",
        "fra_stoi, fra_itos = build_vocab(fra_tokens, HYPERPARAMS[\"min_freq\"])\n",
        "\n",
        "print(f\"|V_en| = {len(eng_stoi)} |V_fr| = {len(fra_stoi)}\")"
      ],
      "metadata": {
        "colab": {
          "base_uri": "https://localhost:8080/"
        },
        "id": "GRgMs7B3iL26",
        "outputId": "10865380-66b1-4310-9060-d55e6c2565cc"
      },
      "execution_count": null,
      "outputs": [
        {
          "output_type": "stream",
          "name": "stdout",
          "text": [
            "|V_en| = 2744 |V_fr| = 3552\n"
          ]
        }
      ]
    },
    {
      "cell_type": "markdown",
      "source": [
        "## Dataset, Truncamento & Padding\n",
        "\n",
        "Converte listas de tokens para IDs, aplica `<bos>`/`<eos>`, trunca/pad para `num_steps` e monta `DataLoader` com máscaras de comprimento válidas.\n"
      ],
      "metadata": {
        "id": "1hkbLajRxHVU"
      }
    },
    {
      "cell_type": "code",
      "source": [
        "def encode(tokens: List[str], stoi: Dict[str, int]) -> List[int]:\n",
        "    ids = [stoi.get(tok, eng_stoi[UNK] if stoi is eng_stoi else fra_stoi[UNK]) for tok in tokens]\n",
        "    return ids\n",
        "\n",
        "\n",
        "def to_tensor(seq: List[int], num_steps: int, pad_id: int) -> torch.Tensor:\n",
        "    seq = [eng_stoi[BOS] if pad_id == eng_stoi[PAD] else fra_stoi[BOS]] + seq + [eng_stoi[EOS] if pad_id == eng_stoi[PAD] else fra_stoi[EOS]]\n",
        "    seq = seq[: num_steps]\n",
        "    if len(seq) < num_steps:\n",
        "        seq = seq + [pad_id] * (num_steps - len(seq))\n",
        "    return torch.tensor(seq, dtype=torch.long)\n",
        "\n",
        "class NMTDataset(Dataset):\n",
        "    def __init__(self, pairs, num_steps):\n",
        "        self.pairs = pairs\n",
        "        self.num_steps = num_steps\n",
        "    def __len__(self):\n",
        "        return len(self.pairs)\n",
        "    def __getitem__(self, idx):\n",
        "        en, fr = self.pairs[idx]\n",
        "        en_ids = encode(tokenize(en), eng_stoi)\n",
        "        fr_ids = encode(tokenize(fr), fra_stoi)\n",
        "        src = to_tensor(en_ids, self.num_steps, eng_stoi[PAD])\n",
        "        tgt = to_tensor(fr_ids, self.num_steps, fra_stoi[PAD])\n",
        "        # comprimentos válidos (até antes de <pad>)\n",
        "        src_valid = (src != eng_stoi[PAD]).sum()\n",
        "        tgt_valid = (tgt != fra_stoi[PAD]).sum()\n",
        "        return src, src_valid, tgt, tgt_valid\n",
        "\n",
        "train_ds = NMTDataset(pairs, HYPERPARAMS[\"num_steps\"])\n",
        "train_iter = DataLoader(train_ds, batch_size=HYPERPARAMS[\"batch_size\"], shuffle=True)\n"
      ],
      "metadata": {
        "id": "9zzzX6EfiRiA"
      },
      "execution_count": null,
      "outputs": []
    },
    {
      "cell_type": "markdown",
      "source": [
        "## Modelo Seq2Seq (Encoder–Decoder GRU)\n",
        "\n",
        "Implementação de um Encoder e Decoder com GRU. Embeddings independentes por idioma, e *teacher forcing* durante o treino. Decodificação greedy para inferência.\n",
        "\n"
      ],
      "metadata": {
        "id": "h1R0app0w81R"
      }
    },
    {
      "cell_type": "code",
      "source": [
        "class Encoder(nn.Module):\n",
        "    def __init__(self, vocab_size, embed_size, hidden_size, num_layers=1, dropout=0.0):\n",
        "        super().__init__()\n",
        "        self.embed = nn.Embedding(vocab_size, embed_size, padding_idx=0)\n",
        "        self.rnn = nn.GRU(embed_size, hidden_size, num_layers=num_layers, batch_first=True, dropout=dropout if num_layers > 1 else 0.0)\n",
        "    def forward(self, x, lengths):\n",
        "        emb = self.embed(x)\n",
        "        packed_out, h = self.rnn(emb)\n",
        "        return h  # [num_layers, B, H]\n",
        "\n",
        "class Decoder(nn.Module):\n",
        "    def __init__(self, vocab_size, embed_size, hidden_size, num_layers=1, dropout=0.0):\n",
        "        super().__init__()\n",
        "        self.embed = nn.Embedding(vocab_size, embed_size, padding_idx=0)\n",
        "        self.rnn = nn.GRU(embed_size, hidden_size, num_layers=num_layers, batch_first=True, dropout=dropout if num_layers > 1 else 0.0)\n",
        "        self.fc = nn.Linear(hidden_size, vocab_size)\n",
        "    def forward(self, y_prev, h):\n",
        "        emb = self.embed(y_prev)\n",
        "        out, h = self.rnn(emb, h)\n",
        "        logits = self.fc(out)\n",
        "        return logits, h\n",
        "\n",
        "class Seq2Seq(nn.Module):\n",
        "    def __init__(self, enc, dec):\n",
        "        super().__init__()\n",
        "        self.enc = enc\n",
        "        self.dec = dec\n",
        "    def forward(self, src, tgt):\n",
        "        # tgt inclui <bos> e <eos>, treinamos para prever próxima palavra\n",
        "        h = self.enc(src, (src != eng_stoi[PAD]).sum(dim=1))\n",
        "        # y_in: tudo menos o último token\n",
        "        y_in = tgt[:, :-1]\n",
        "        y_out = tgt[:, 1:]\n",
        "        logits, _ = self.dec(y_in, h)\n",
        "        return logits, y_out\n",
        "\n",
        "enc = Encoder(len(eng_stoi), HYPERPARAMS[\"embed_size\"], HYPERPARAMS[\"hidden_size\"], HYPERPARAMS[\"num_layers\"], HYPERPARAMS[\"dropout\"]).to(device)\n",
        "dec = Decoder(len(fra_stoi), HYPERPARAMS[\"embed_size\"], HYPERPARAMS[\"hidden_size\"], HYPERPARAMS[\"num_layers\"], HYPERPARAMS[\"dropout\"]).to(device)\n",
        "model = Seq2Seq(enc, dec).to(device)\n",
        "\n",
        "criterion = nn.CrossEntropyLoss(ignore_index=fra_stoi[PAD])\n",
        "optimizer = torch.optim.AdamW(model.parameters(), lr=HYPERPARAMS[\"lr\"])\n"
      ],
      "metadata": {
        "id": "D_EFRToGiVlx"
      },
      "execution_count": null,
      "outputs": []
    },
    {
      "cell_type": "markdown",
      "source": [
        "## Curvas de Treinamento (Loss & Perplexity)\n",
        "\n",
        "\n",
        "Registramos o histórico de loss/token e perplexity por época para visualizar o aprendizado do seq2seq.\n"
      ],
      "metadata": {
        "id": "Cj2G2SXIwqW1"
      }
    },
    {
      "cell_type": "code",
      "source": [
        "train_loss_hist, train_ppl_hist = [], []\n",
        "\n",
        "for epoch in range(1, HYPERPARAMS[\"num_epochs\"] + 1):\n",
        "    model.train()\n",
        "    t = Timer()\n",
        "    total_loss, total_tokens = 0.0, 0\n",
        "\n",
        "    for src, src_len, tgt, tgt_len in train_iter:\n",
        "        src = src.to(device)\n",
        "        tgt = tgt.to(device)\n",
        "\n",
        "        optimizer.zero_grad()\n",
        "        logits, y_out = model(src, tgt)\n",
        "        loss = criterion(logits.reshape(-1, logits.size(-1)), y_out.reshape(-1))\n",
        "        loss.backward()\n",
        "        nn.utils.clip_grad_norm_(model.parameters(), 1.0)\n",
        "        optimizer.step()\n",
        "\n",
        "        ntokens = (y_out != fra_stoi[PAD]).sum().item()\n",
        "        total_loss += loss.item() * ntokens\n",
        "        total_tokens += ntokens\n",
        "\n",
        "    loss_per_tok = total_loss / max(1, total_tokens)\n",
        "    ppl = math.exp(loss_per_tok)\n",
        "    train_loss_hist.append(loss_per_tok)\n",
        "    train_ppl_hist.append(ppl)\n",
        "    print(f\"Epoch {epoch} | loss/token={loss_per_tok:.4f} | ppl≈{ppl:.2f} | time={t.elapsed():.1f}s\")"
      ],
      "metadata": {
        "colab": {
          "base_uri": "https://localhost:8080/"
        },
        "id": "fkB4AiWciYaE",
        "outputId": "89a074c8-73b7-437e-fce1-c81d41dd2b86"
      },
      "execution_count": null,
      "outputs": [
        {
          "output_type": "stream",
          "name": "stdout",
          "text": [
            "Epoch 1 | loss/token=3.9618 | ppl≈52.55 | time=57.8s\n",
            "Epoch 2 | loss/token=2.6767 | ppl≈14.54 | time=58.0s\n",
            "Epoch 3 | loss/token=2.0967 | ppl≈8.14 | time=57.1s\n",
            "Epoch 4 | loss/token=1.6342 | ppl≈5.13 | time=58.0s\n",
            "Epoch 5 | loss/token=1.2356 | ppl≈3.44 | time=56.7s\n"
          ]
        }
      ]
    },
    {
      "cell_type": "code",
      "source": [
        "@torch.no_grad()\n",
        "def greedy_translate(eng_sentence: str, max_len: int = 20) -> str:\n",
        "    model.eval()\n",
        "    src = to_tensor(encode(tokenize(normalize_text(eng_sentence)), eng_stoi), HYPERPARAMS[\"num_steps\"], eng_stoi[PAD]).unsqueeze(0).to(device)\n",
        "    h = model.enc(src, None)\n",
        "    y = torch.tensor([[fra_stoi[BOS]]], dtype=torch.long, device=device)\n",
        "    out_tokens = []\n",
        "    for _ in range(max_len):\n",
        "        logits, h = model.dec(y, h)\n",
        "        next_id = logits[:, -1, :].argmax(dim=-1)\n",
        "        token_id = next_id.item()\n",
        "        if token_id == fra_stoi[EOS]:\n",
        "            break\n",
        "        out_tokens.append(fra_itos.get(token_id, UNK))\n",
        "        y = torch.cat([y, next_id.unsqueeze(1)], dim=1)\n",
        "    return \" \".join(out_tokens)\n",
        "\n",
        "# exemplos\n",
        "examples = [\n",
        "    \"i love you !\",\n",
        "    \"this is a test .\",\n",
        "    \"where is the bathroom ?\",\n",
        "]\n",
        "for s in examples:\n",
        "    print(s, \"->\", greedy_translate(s))\n"
      ],
      "metadata": {
        "colab": {
          "base_uri": "https://localhost:8080/"
        },
        "id": "HSEjfe4nibXe",
        "outputId": "b2fee167-c17d-4d06-f907-c4d33d6c050b"
      },
      "execution_count": null,
      "outputs": [
        {
          "output_type": "stream",
          "name": "stdout",
          "text": [
            "i love you ! -> je vous en prie . \n",
            "this is a test . -> c ' est une histoire . \n",
            "where is the bathroom ? -> où se trouve la gare ? \n"
          ]
        }
      ]
    },
    {
      "cell_type": "code",
      "source": [
        "# Reexecuta pipeline de vocabulário com diferentes amostras e imprime |V_en| e |V_fr|.\n",
        "\n",
        "sizes_to_try = [600, 12000, 50000]\n",
        "for k in sizes_to_try:\n",
        "    sample = pairs[:k] if k <= len(pairs) else pairs\n",
        "    eng_toks = [tokenize(e) for e, _ in sample]\n",
        "    fr_toks = [tokenize(f) for _, f in sample]\n",
        "    en_stoi_k, _ = build_vocab(eng_toks, HYPERPARAMS[\"min_freq\"])\n",
        "    fr_stoi_k, _ = build_vocab(fr_toks, HYPERPARAMS[\"min_freq\"])\n",
        "    print(f\"num_examples={len(sample):>6} |V_en|={len(en_stoi_k):>6} |V_fr|={len(fr_stoi_k):>6}\")"
      ],
      "metadata": {
        "colab": {
          "base_uri": "https://localhost:8080/"
        },
        "id": "Tw8aIQoKic_2",
        "outputId": "5efa02c3-dbeb-4f53-de12-8758b77bc555"
      },
      "execution_count": null,
      "outputs": [
        {
          "output_type": "stream",
          "name": "stdout",
          "text": [
            "num_examples=   600 |V_en|=   359 |V_fr|=   390\n",
            "num_examples= 12000 |V_en|=  2744 |V_fr|=  3552\n",
            "num_examples= 12000 |V_en|=  2744 |V_fr|=  3552\n"
          ]
        }
      ]
    },
    {
      "cell_type": "markdown",
      "source": [
        "## Gráficos para visualização do modelo"
      ],
      "metadata": {
        "id": "_7pwi9Z6wkdc"
      }
    },
    {
      "cell_type": "code",
      "source": [
        "# Loss/token por época\n",
        "\n",
        "plt.figure()\n",
        "plt.plot(range(1, len(train_loss_hist)+1), train_loss_hist, marker=\"o\")\n",
        "plt.xlabel(\"Época\")\n",
        "plt.ylabel(\"Loss por token\")\n",
        "plt.title(\"Curva de treinamento — Loss/token\")\n",
        "plt.grid(True)\n",
        "plt.show()\n"
      ],
      "metadata": {
        "colab": {
          "base_uri": "https://localhost:8080/",
          "height": 474
        },
        "id": "YZOhNvhroRl5",
        "outputId": "9d73be79-2697-46b8-9105-a394bf94db12"
      },
      "execution_count": null,
      "outputs": [
        {
          "output_type": "display_data",
          "data": {
            "text/plain": [
              "<Figure size 640x480 with 1 Axes>"
            ],
            "image/png": "[encoded data removed]"
          },
          "metadata": {}
        }
      ]
    },
    {
      "cell_type": "code",
      "source": [
        "# Perplexity por época\n",
        "\n",
        "plt.figure()\n",
        "plt.plot(range(1, len(train_ppl_hist)+1), train_ppl_hist, marker=\"o\")\n",
        "plt.xlabel(\"Época\")\n",
        "plt.ylabel(\"Perplexity (≈ exp(loss))\")\n",
        "plt.title(\"Curva de treinamento — Perplexity\")\n",
        "plt.grid(True)\n",
        "plt.show()"
      ],
      "metadata": {
        "colab": {
          "base_uri": "https://localhost:8080/",
          "height": 474
        },
        "id": "bIwqWXRFoTCv",
        "outputId": "7e4b1256-cc8d-476b-c6ea-ec72055546d1"
      },
      "execution_count": null,
      "outputs": [
        {
          "output_type": "display_data",
          "data": {
            "text/plain": [
              "<Figure size 640x480 with 1 Axes>"
            ],
            "image/png": "[encoded data removed]"
          },
          "metadata": {}
        }
      ]
    }
  ]
}